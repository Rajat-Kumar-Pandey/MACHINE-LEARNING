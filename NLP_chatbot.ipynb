{
  "nbformat": 4,
  "nbformat_minor": 0,
  "metadata": {
    "colab": {
      "provenance": [],
      "authorship_tag": "ABX9TyNH5J1XkQA1GzUmKEdI+kNT",
      "include_colab_link": true
    },
    "kernelspec": {
      "name": "python3",
      "display_name": "Python 3"
    },
    "language_info": {
      "name": "python"
    }
  },
  "cells": [
    {
      "cell_type": "markdown",
      "metadata": {
        "id": "view-in-github",
        "colab_type": "text"
      },
      "source": [
        "<a href=\"https://colab.research.google.com/github/Rajat-Kumar-Pandey/MACHINE-LEARNING/blob/main/NLP_chatbot.ipynb\" target=\"_parent\"><img src=\"https://colab.research.google.com/assets/colab-badge.svg\" alt=\"Open In Colab\"/></a>"
      ]
    },
    {
      "cell_type": "code",
      "execution_count": null,
      "metadata": {
        "id": "5lHnarcTLq45"
      },
      "outputs": [],
      "source": []
    },
    {
      "cell_type": "markdown",
      "source": [
        "NLP Chatbot Using persnol data"
      ],
      "metadata": {
        "id": "EIZ36ytvLr_x"
      }
    },
    {
      "cell_type": "code",
      "source": [
        "import numpy as np\n",
        "import nltk\n",
        "from nltk.tokenize import word_tokenize, sent_tokenize\n",
        "from nltk.stem import WordNetLemmatizer\n",
        "from sklearn.feature_extraction.text import TfidfVectorizer\n",
        "from sklearn.metrics.pairwise import cosine_similarity\n",
        "import random\n",
        "import string\n",
        "\n",
        "# Download NLTK resources\n",
        "nltk.download('punkt')\n",
        "nltk.download('wordnet')\n",
        "\n",
        "# Read the data from file\n",
        "file = open(r\"/content/mldata.txt\", \"r\", encoding=\"utf-8\")\n",
        "text = file.read().lower()\n",
        "file.close()  # Close the file after reading\n",
        "\n",
        "# Tokenize the text\n",
        "w_token = word_tokenize(text)\n",
        "s_token = sent_tokenize(text)\n",
        "\n",
        "# Initialize lemmatizer\n",
        "lemmatizer = WordNetLemmatizer()\n",
        "\n",
        "# Functions for text normalization and lemmatization\n",
        "def LemTokens(tokens):\n",
        "    return [lemmatizer.lemmatize(token) for token in tokens]\n",
        "\n",
        "remove_punct_dict = dict((ord(punct), None) for punct in string.punctuation)\n",
        "\n",
        "def LemNormalize(text):\n",
        "    return LemTokens(word_tokenize(text.lower().translate(remove_punct_dict)))\n",
        "\n",
        "# Greeting inputs and responses\n",
        "g_input = (\n",
        "    \"hello\", \"hi\", \"greetings\", \"sup\", \"what's up\", \"hey\",\n",
        "    \"good morning\", \"good afternoon\", \"good evening\", \"howdy\",\n",
        "    \"yo\", \"hi there\", \"what's good\", \"hey there\", \"what's going on\",\n",
        "    \"hola\", \"hiya\", \"salutations\", \"bonjour\", \"namaste\",\n",
        "    \"how’s it going\", \"how are you\", \"what's new\", \"shalom\",\n",
        "    \"g'day\", \"aloha\", \"ciao\"\n",
        ")\n",
        "\n",
        "g_response = [\n",
        "    \"hi\", \"hey\", \"*nods*\", \"hi there\", \"hello\",\n",
        "    \"I am glad you're talking to me\", \"hey! how's it going?\",\n",
        "    \"hello! great to see you\", \"what's up?\", \"hi, how can I assist you today?\",\n",
        "    \"hey there! anything I can help with?\", \"hello! what’s on your mind?\",\n",
        "    \"hi! how’s your day?\", \"greetings!\", \"oh, hi!\",\n",
        "    \"hi! it’s always good to hear from you\", \"hello! I'm here for you\",\n",
        "    \"hey! ready to chat?\", \"hi! let’s make today awesome\", \"good to see you!\"\n",
        "]\n",
        "\n",
        "def greeting(sentence):\n",
        "    for word in sentence.split():\n",
        "        if word.lower() in g_input:\n",
        "            return random.choice(g_response)\n",
        "    return None\n",
        "\n",
        "# Response function based on user input\n",
        "def response(user_response):\n",
        "    robo_response = ''\n",
        "    TfidfVectorizerInstance = TfidfVectorizer(tokenizer=LemNormalize, stop_words='english')\n",
        "    tfidf = TfidfVectorizerInstance.fit_transform(s_token + [user_response])  # Include user input in the corpus\n",
        "    vals = cosine_similarity(tfidf[-1], tfidf[:-1])  # Compare with all sentences except the last (user input)\n",
        "\n",
        "    # Improved index selection logic\n",
        "    idx = vals.argsort()[0][-1]  # Get the index of the most similar sentence\n",
        "    flat = vals.flatten()\n",
        "    flat.sort()\n",
        "    req_tfidf = flat[-1]\n",
        "\n",
        "    if req_tfidf == 0:\n",
        "        robo_response = \"I am sorry! I don't understand you.\"\n",
        "    else:\n",
        "        robo_response = s_token[idx]\n",
        "\n",
        "    # Optionally, you can include a more informative response\n",
        "    return robo_response if req_tfidf > 0 else \"Could you please clarify that?\"\n",
        "\n",
        "\n",
        "\n",
        "# Main loop for the chatbot interaction\n",
        "flag = True\n",
        "print(\"ROBO: My name is Robo. I will answer your queries about Machine Learning. If you want to exit, type 'Bye!'\")\n",
        "\n",
        "while flag:\n",
        "    user_response = input().strip().lower()\n",
        "\n",
        "    if user_response != 'bye':\n",
        "        if user_response in ['thanks', 'thank you']:\n",
        "            flag = False\n",
        "            print(\"ROBO: You are welcome..\")\n",
        "        else:\n",
        "            if greeting(user_response) is not None:\n",
        "                print(\"ROBO: \" + greeting(user_response))\n",
        "            else:\n",
        "                print(\"ROBO: \", end=\"\")\n",
        "                print(response(user_response))\n",
        "    else:\n",
        "        flag = False\n",
        "        print(\"ROBO: Bye! Take care..\")\n"
      ],
      "metadata": {
        "colab": {
          "base_uri": "https://localhost:8080/",
          "height": 703
        },
        "id": "lvi5qHuNL08Q",
        "outputId": "ae5bfb27-f03c-444f-cc56-368e4bdaf0b3"
      },
      "execution_count": 6,
      "outputs": [
        {
          "output_type": "stream",
          "name": "stderr",
          "text": [
            "[nltk_data] Downloading package punkt to /root/nltk_data...\n",
            "[nltk_data]   Package punkt is already up-to-date!\n",
            "[nltk_data] Downloading package wordnet to /root/nltk_data...\n",
            "[nltk_data]   Package wordnet is already up-to-date!\n"
          ]
        },
        {
          "output_type": "stream",
          "name": "stdout",
          "text": [
            "ROBO: My name is Robo. I will answer your queries about Machine Learning. If you want to exit, type 'Bye!'\n",
            "svm\n",
            "ROBO: - **support vector machines (svm):**\n",
            "  svm finds the best hyperplane that separates data points of different classes.\n",
            "k mean\n",
            "ROBO: - **k-means clustering:**\n",
            "  a method for grouping data into \"k\" clusters based on similarity.\n",
            " clustering\n",
            "ROBO: - **k-means clustering:** a popular clustering method that groups data into k clusters based on similarity.\n",
            "nlp\n",
            "ROBO: **natural language processing (nlp) in ml**\n",
            "nlp focuses on the interaction between computers and human languages.\n",
            "regresion\n",
            "ROBO: Could you please clarify that?\n",

