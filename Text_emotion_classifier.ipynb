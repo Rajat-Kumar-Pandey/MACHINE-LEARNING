{
  "nbformat": 4,
  "nbformat_minor": 0,
  "metadata": {
    "colab": {
      "provenance": [],
      "authorship_tag": "ABX9TyNIcHJdyT0sq1edKlVg/cYj",
      "include_colab_link": true
    },
    "kernelspec": {
      "name": "python3",
      "display_name": "Python 3"
    },
    "language_info": {
      "name": "python"
    }
  },
  "cells": [
    {
      "cell_type": "markdown",
      "metadata": {
        "id": "view-in-github",
        "colab_type": "text"
      },
      "source": [
        "<a href=\"https://colab.research.google.com/github/Rajat-Kumar-Pandey/MACHINE-LEARNING/blob/main/Text_emotion_classifier.ipynb\" target=\"_parent\"><img src=\"https://colab.research.google.com/assets/colab-badge.svg\" alt=\"Open In Colab\"/></a>"
      ]
    },
    {
      "cell_type": "markdown",
      "source": [
        "Text emotion classifier"
      ],
      "metadata": {
        "id": "nX8iExXgtAhB"
      }
    },
    {
      "cell_type": "code",
      "source": [
        "import pandas as pd\n",
        "import numpy as np\n",
        "import keras\n",
        "import tensorflow\n",
        "from tensorflow.keras.preprocessing.text import Tokenizer\n",
        "from tensorflow.keras.preprocessing.sequence import pad_sequences\n",
        "from sklearn.preprocessing import LabelEncoder\n",
        "from sklearn.model_selection import train_test_split\n",
        "from keras.models import Sequential\n",
        "from keras.layers import Embedding, Flatten, Dense\n"
      ],
      "metadata": {
        "id": "1TdEBz7gtBrI"
      },
      "execution_count": 3,
      "outputs": []
    },
    {
      "cell_type": "code",
      "source": [
        "data = pd.read_csv(\"/content/train.txt\", sep=';')\n",
        "data.columns = [\"Text\", \"Emotions\"]\n",
        "print(data.head())"
      ],
      "metadata": {
        "colab": {
          "base_uri": "https://localhost:8080/"
        },
        "id": "iYqKNTH-utbM",
        "outputId": "68c03743-fa00-4cc7-dab9-9edd8a58b582"
      },
      "execution_count": 4,
      "outputs": [
        {
          "output_type": "stream",
          "name": "stdout",
          "text": [
            "                                                Text Emotions\n",
            "0  i can go from feeling so hopeless to so damned...  sadness\n",
            "1   im grabbing a minute to post i feel greedy wrong    anger\n",
            "2  i am ever feeling nostalgic about the fireplac...     love\n",
            "3                               i am feeling grouchy    anger\n",
            "4  ive been feeling a little burdened lately wasn...  sadness\n"
          ]
        }
      ]
    },
    {
      "cell_type": "code",
      "source": [
        "texts = data[\"Text\"].tolist()\n",
        "labels = data[\"Emotions\"].tolist()\n",
        "\n",
        "# Tokenize the text data\n",
        "tokenizer = Tokenizer()\n",
        "tokenizer.fit_on_texts(texts)"
      ],
      "metadata": {
        "id": "uInKveo5vuFw"
      },
      "execution_count": 5,
      "outputs": []
    },
    {
      "cell_type": "code",
      "source": [
        "sequences = tokenizer.texts_to_sequences(texts)\n",
        "max_length = max([len(seq) for seq in sequences])\n",
        "padded_sequences = pad_sequences(sequences, maxlen=max_length)"
      ],
      "metadata": {
        "id": "4Zk2Qjj8v2p7"
      },
      "execution_count": 6,
      "outputs": []
    },
    {
      "cell_type": "code",
      "source": [
        "sequences = tokenizer.texts_to_sequences(texts)"
      ],
      "metadata": {
        "id": "neD76YtNw8pL"
      },
      "execution_count": 7,
      "outputs": []
    },
    {
      "cell_type": "code",
      "source": [
        "padded_sequences"
      ],
      "metadata": {
        "colab": {
          "base_uri": "https://localhost:8080/"
        },
        "id": "hdO0jFlww9R2",
        "outputId": "2f3c142f-1dca-4f48-c1a1-c6e50cf2a8b1"
      },
      "execution_count": 8,
      "outputs": [
        {
          "output_type": "execute_result",
          "data": {
            "text/plain": [
              "array([[   0,    0,    0, ...,    3,   21, 1254],\n",
              "       [   0,    0,    0, ...,    2,  494,  437],\n",
              "       [   0,    0,    0, ...,   29,    5, 3496],\n",
              "       ...,\n",
              "       [   0,    0,    0, ...,    3,  101, 1331],\n",
              "       [   0,    0,    0, ...,  339,    8,   42],\n",
              "       [   0,    0,    0, ...,   25, 3585,   12]], dtype=int32)"
            ]
          },
          "metadata": {},
          "execution_count": 8
        }
      ]
    },
    {
      "cell_type": "code",
      "source": [
        "# Encode the string labels to integers\n",
        "label_encoder = LabelEncoder()\n",
        "labels = label_encoder.fit_transform(labels)"
      ],
      "metadata": {
        "id": "NnZnPlUrxAka"
      },
      "execution_count": 9,
      "outputs": []
    },
    {
      "cell_type": "code",
      "source": [
        "# One-hot encode the labels\n",
        "one_hot_labels = keras.utils.to_categorical(labels)"
      ],
      "metadata": {
        "id": "olNSQoQPxDk2"
      },
      "execution_count": 10,
      "outputs": []
    },
    {
      "cell_type": "code",
      "source": [
        "\n",
        "one_hot_labels"
      ],
      "metadata": {
        "colab": {
          "base_uri": "https://localhost:8080/"
        },
        "id": "5hdvW4gRxFSZ",
        "outputId": "a029d8b9-47e2-4e59-c0e8-8fdd3f4ba04d"
      },
      "execution_count": 11,
      "outputs": [
        {
          "output_type": "execute_result",
          "data": {
            "text/plain": [
              "array([[0., 0., 0., 0., 1., 0.],\n",
              "       [1., 0., 0., 0., 0., 0.],\n",
              "       [0., 0., 0., 1., 0., 0.],\n",
              "       ...,\n",
              "       [0., 0., 1., 0., 0., 0.],\n",
              "       [1., 0., 0., 0., 0., 0.],\n",
              "       [0., 0., 0., 0., 1., 0.]])"
            ]
          },
          "metadata": {},
          "execution_count": 11
        }
      ]
    },
    {
      "cell_type": "code",
      "source": [
        "# Split the data into training and testing sets\n",
        "xtrain, xtest, ytrain, ytest = train_test_split(padded_sequences,\n",
        "                                                one_hot_labels,\n",
        "                                                test_size=0.2)"
      ],
      "metadata": {
        "id": "_6VM8RQoxHSW"
      },
      "execution_count": 12,
      "outputs": []
    },
    {
      "cell_type": "code",
      "source": [
        "one_hot_labels[0]"
      ],
      "metadata": {
        "colab": {
          "base_uri": "https://localhost:8080/"
        },
        "id": "WiI1sdV1xJtk",
        "outputId": "09448969-8b7b-4938-9093-4cdb3b71dec8"
      },
      "execution_count": 13,
      "outputs": [
        {
          "output_type": "execute_result",
          "data": {
            "text/plain": [
              "array([0., 0., 0., 0., 1., 0.])"
            ]
          },
          "metadata": {},
          "execution_count": 13
        }
      ]
    },
    {
      "cell_type": "code",
      "source": [
        "# Define the model\n",
        "model = Sequential()\n",
        "model.add(Embedding(input_dim=len(tokenizer.word_index) + 1,\n",
        "                    output_dim=128, input_length=max_length))\n",
        "model.add(Flatten())\n",
        "model.add(Dense(units=128, activation=\"relu\"))\n",
        "model.add(Dense(units=len(one_hot_labels[0]), activation=\"softmax\"))\n",
        "\n",
        "model.compile(optimizer=\"adam\", loss=\"categorical_crossentropy\", metrics=[\"accuracy\"])\n",
        "model.fit(xtrain, ytrain, epochs=10, batch_size=32, validation_data=(xtest, ytest))"
      ],
      "metadata": {
        "colab": {
          "base_uri": "https://localhost:8080/"
        },
        "id": "oaxvNrP_xMHB",
        "outputId": "ffad8494-9780-48d5-f75f-cc31a7f6be9c"
      },
      "execution_count": 14,
      "outputs": [
        {
          "output_type": "stream",
          "name": "stdout",
          "text": [
            "Epoch 1/10\n"
          ]
        },
        {
          "output_type": "stream",
          "name": "stderr",
          "text": [
            "/usr/local/lib/python3.10/dist-packages/keras/src/layers/core/embedding.py:90: UserWarning: Argument `input_length` is deprecated. Just remove it.\n",
            "  warnings.warn(\n"
          ]
        },
        {
          "output_type": "stream",
          "name": "stdout",
          "text": [
            "\u001b[1m400/400\u001b[0m \u001b[32m━━━━━━━━━━━━━━━━━━━━\u001b[0m\u001b[37m\u001b[0m \u001b[1m18s\u001b[0m 41ms/step - accuracy: 0.3698 - loss: 1.5261 - val_accuracy: 0.6753 - val_loss: 0.8937\n",
            "Epoch 2/10\n",
            "\u001b[1m400/400\u001b[0m \u001b[32m━━━━━━━━━━━━━━━━━━━━\u001b[0m\u001b[37m\u001b[0m \u001b[1m19s\u001b[0m 38ms/step - accuracy: 0.8521 - loss: 0.4664 - val_accuracy: 0.8225 - val_loss: 0.5446\n",
            "Epoch 3/10\n",
            "\u001b[1m400/400\u001b[0m \u001b[32m━━━━━━━━━━━━━━━━━━━━\u001b[0m\u001b[37m\u001b[0m \u001b[1m22s\u001b[0m 55ms/step - accuracy: 0.9825 - loss: 0.0696 - val_accuracy: 0.8400 - val_loss: 0.5551\n",
            "Epoch 4/10\n",
            "\u001b[1m400/400\u001b[0m \u001b[32m━━━━━━━━━━━━━━━━━━━━\u001b[0m\u001b[37m\u001b[0m \u001b[1m35s\u001b[0m 40ms/step - accuracy: 0.9945 - loss: 0.0277 - val_accuracy: 0.8375 - val_loss: 0.5762\n",
            "Epoch 5/10\n",
            "\u001b[1m400/400\u001b[0m \u001b[32m━━━━━━━━━━━━━━━━━━━━\u001b[0m\u001b[37m\u001b[0m \u001b[1m20s\u001b[0m 40ms/step - accuracy: 0.9959 - loss: 0.0189 - val_accuracy: 0.8363 - val_loss: 0.6103\n",
            "Epoch 6/10\n",
            "\u001b[1m400/400\u001b[0m \u001b[32m━━━━━━━━━━━━━━━━━━━━\u001b[0m\u001b[37m\u001b[0m \u001b[1m16s\u001b[0m 41ms/step - accuracy: 0.9967 - loss: 0.0146 - val_accuracy: 0.8278 - val_loss: 0.6438\n",
            "Epoch 7/10\n",
            "\u001b[1m400/400\u001b[0m \u001b[32m━━━━━━━━━━━━━━━━━━━━\u001b[0m\u001b[37m\u001b[0m \u001b[1m21s\u001b[0m 42ms/step - accuracy: 0.9970 - loss: 0.0121 - val_accuracy: 0.8288 - val_loss: 0.6854\n",
            "Epoch 8/10\n",
            "\u001b[1m400/400\u001b[0m \u001b[32m━━━━━━━━━━━━━━━━━━━━\u001b[0m\u001b[37m\u001b[0m \u001b[1m20s\u001b[0m 40ms/step - accuracy: 0.9973 - loss: 0.0109 - val_accuracy: 0.8334 - val_loss: 0.6953\n",
            "Epoch 9/10\n",
            "\u001b[1m400/400\u001b[0m \u001b[32m━━━━━━━━━━━━━━━━━━━━\u001b[0m\u001b[37m\u001b[0m \u001b[1m22s\u001b[0m 44ms/step - accuracy: 0.9977 - loss: 0.0083 - val_accuracy: 0.8300 - val_loss: 0.7323\n",
            "Epoch 10/10\n",
            "\u001b[1m400/400\u001b[0m \u001b[32m━━━━━━━━━━━━━━━━━━━━\u001b[0m\u001b[37m\u001b[0m \u001b[1m19s\u001b[0m 40ms/step - accuracy: 0.9985 - loss: 0.0054 - val_accuracy: 0.8275 - val_loss: 0.6901\n"
          ]
        },
        {
          "output_type": "execute_result",
          "data": {
            "text/plain": [
              "<keras.src.callbacks.history.History at 0x78504d0be890>"
            ]
          },
          "metadata": {},
          "execution_count": 14
        }
      ]
    },
    {
      "cell_type": "code",
      "source": [
        "input_text = \"i don t feel guilty like i m not going to be able to cook for him\"\n",
        "\n",
        "# Preprocess the input text\n",
        "input_sequence = tokenizer.texts_to_sequences([input_text])\n",
        "padded_input_sequence = pad_sequences(input_sequence, maxlen=max_length)\n",
        "prediction = model.predict(padded_input_sequence)\n",
        "predicted_label = label_encoder.inverse_transform([np.argmax(prediction[0])])\n",
        "print(predicted_label[0])"
      ],
      "metadata": {
        "colab": {
          "base_uri": "https://localhost:8080/"
        },
        "id": "qvI6IQE1xSrL",
        "outputId": "a5378aaf-a909-4998-e1b6-3bd093192a66"
      },
      "execution_count": 16,
      "outputs": [
        {
          "output_type": "stream",
          "name": "stdout",
          "text": [
            "\u001b[1m1/1\u001b[0m \u001b[32m━━━━━━━━━━━━━━━━━━━━\u001b[0m\u001b[37m\u001b[0m \u001b[1m0s\u001b[0m 23ms/step\n",
            "sadness\n"
          ]
        }
      ]
    },
    {
      "cell_type": "code",
      "source": [
        "import pickle\n",
        "from keras.models import load_model\n",
        "\n",
        "def save_model_components(model, tokenizer, label_encoder):\n",
        "    # Save the trained model in Keras format\n",
        "    model.save(\"text_model.keras\")\n",
        "\n",
        "    # Save the tokenizer\n",
        "    with open(\"tokenizer.pickle\", \"wb\") as handle:\n",
        "        pickle.dump(tokenizer, handle, protocol=pickle.HIGHEST_PROTOCOL)\n",
        "\n",
        "    # Save the label encoder\n",
        "    with open(\"label_encoder.pickle\", \"wb\") as handle:\n",
        "        pickle.dump(label_encoder, handle, protocol=pickle.HIGHEST_PROTOCOL)\n",
        "\n",
        "    print(\"Model, tokenizer, and label encoder saved successfully!\")\n",
        "#\n",
        "\n",
        "\n",
        "# After training the model, call the save function\n",
        "save_model_components(model, tokenizer, label_encoder)\n",
        "print(\"Model, tokenizer, and label encoder saved successfully!\")\n"
      ],
      "metadata": {
        "colab": {
          "base_uri": "https://localhost:8080/"
        },
        "id": "cJKHeJtcyQeN",
        "outputId": "fe5f1be1-8e79-47f4-e907-f67b40a5767a"
      },
      "execution_count": 18,
      "outputs": [
        {
          "output_type": "stream",
          "name": "stdout",
          "text": [
            "Model, tokenizer, and label encoder saved successfully!\n",
            "Model, tokenizer, and label encoder saved successfully!\n"
          ]
        }
      ]
    },
    {
      "cell_type": "code",
      "source": [
        "import os\n",
        "\n",
        "# Get the current working directory\n",
        "current_directory = os.getcwd()\n",
        "print(\"Current Working Directory:\", current_directory)\n",
        "\n",
        "# Check if the file exists\n",
        "file_path = os.path.join(current_directory, 'text_model.keras')\n",
        "if os.path.exists(file_path):\n",
        "    print(f\"{file_path} exists.\")\n",
        "else:\n",
        "    print(f\"{file_path} does not exist.\")\n"
      ],
      "metadata": {
        "colab": {
          "base_uri": "https://localhost:8080/"
        },
        "id": "K9d5HV-TApAB",
        "outputId": "95d7f1e5-0d70-43c1-c75b-53dd4a90a4d3"
      },
      "execution_count": 21,
      "outputs": [
        {
          "output_type": "stream",
          "name": "stdout",
          "text": [
            "Current Working Directory: /content\n",
            "/content/text_model.keras exists.\n"
          ]
        }
      ]
    },
    {
      "cell_type": "code",
      "source": [],
      "metadata": {
        "id": "j7vfgzqbBpKl"
      },
      "execution_count": null,
      "outputs": []
    }
  ]
}