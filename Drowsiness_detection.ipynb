{
  "nbformat": 4,
  "nbformat_minor": 0,
  "metadata": {
    "colab": {
      "provenance": [],
      "toc_visible": true,
      "authorship_tag": "ABX9TyM85BiA0huF3QuSQ7of5Od5",
      "include_colab_link": true
    },
    "kernelspec": {
      "name": "python3",
      "display_name": "Python 3"
    },
    "language_info": {
      "name": "python"
    }
  },
  "cells": [
    {
      "cell_type": "markdown",
      "metadata": {
        "id": "view-in-github",
        "colab_type": "text"
      },
      "source": [
        "<a href=\"https://colab.research.google.com/github/Rajat-Kumar-Pandey/MACHINE-LEARNING/blob/main/Drowsiness_detection.ipynb\" target=\"_parent\"><img src=\"https://colab.research.google.com/assets/colab-badge.svg\" alt=\"Open In Colab\"/></a>"
      ]
    },
    {
      "cell_type": "code",
      "execution_count": 3,
      "metadata": {
        "colab": {
          "base_uri": "https://localhost:8080/",
          "height": 383
        },
        "id": "afmHt1wEysgg",
        "outputId": "20f45e27-2346-4937-f400-72e314ddacfb"
      },
      "outputs": [
        {
          "output_type": "error",
          "ename": "ModuleNotFoundError",
          "evalue": "No module named 'face_recognition'",
          "traceback": [
            "\u001b[0;31m---------------------------------------------------------------------------\u001b[0m",
            "\u001b[0;31mModuleNotFoundError\u001b[0m                       Traceback (most recent call last)",
            "\u001b[0;32m<ipython-input-3-054aef5f5b71>\u001b[0m in \u001b[0;36m<cell line: 1>\u001b[0;34m()\u001b[0m\n\u001b[0;32m----> 1\u001b[0;31m \u001b[0;32mimport\u001b[0m \u001b[0mface_recognition\u001b[0m\u001b[0;34m\u001b[0m\u001b[0;34m\u001b[0m\u001b[0m\n\u001b[0m\u001b[1;32m      2\u001b[0m \u001b[0;32mimport\u001b[0m \u001b[0mcv2\u001b[0m\u001b[0;34m\u001b[0m\u001b[0;34m\u001b[0m\u001b[0m\n\u001b[1;32m      3\u001b[0m \u001b[0;32mfrom\u001b[0m \u001b[0mscipy\u001b[0m\u001b[0;34m.\u001b[0m\u001b[0mspatial\u001b[0m \u001b[0;32mimport\u001b[0m \u001b[0mdistance\u001b[0m \u001b[0;32mas\u001b[0m \u001b[0mdist\u001b[0m\u001b[0;34m\u001b[0m\u001b[0;34m\u001b[0m\u001b[0m\n\u001b[1;32m      4\u001b[0m \u001b[0;32mimport\u001b[0m \u001b[0mplaysound\u001b[0m\u001b[0;34m\u001b[0m\u001b[0;34m\u001b[0m\u001b[0m\n\u001b[1;32m      5\u001b[0m \u001b[0;32mfrom\u001b[0m \u001b[0mthreading\u001b[0m \u001b[0;32mimport\u001b[0m \u001b[0mThread\u001b[0m\u001b[0;34m\u001b[0m\u001b[0;34m\u001b[0m\u001b[0m\n",
            "\u001b[0;31mModuleNotFoundError\u001b[0m: No module named 'face_recognition'",
            "",
            "\u001b[0;31m---------------------------------------------------------------------------\u001b[0;32m\nNOTE: If your import is failing due to a missing package, you can\nmanually install dependencies using either !pip or !apt.\n\nTo view examples of installing some common dependencies, click the\n\"Open Examples\" button below.\n\u001b[0;31m---------------------------------------------------------------------------\u001b[0m\n"
          ],
          "errorDetails": {
            "actions": [
              {
                "action": "open_url",
                "actionText": "Open Examples",
                "url": "/notebooks/snippets/importing_libraries.ipynb"
              }
            ]
          }
        }
      ],
      "source": [
        "import face_recognition\n",
        "import cv2\n",
        "from scipy.spatial import distance as dist\n",
        "import playsound\n",
        "from threading import Thread\n",
        "import numpy as np\n",
        "import time\n",
        "\n",
        "# Minimum eye aspect ratio to trigger alarm\n",
        "Min_Eye_except_ratio = 0.30\n",
        "# Number of frames the eye aspect ratio must be below threshold to trigger alarm\n",
        "Eye_AR_Frames = 10\n",
        "\n",
        "counter = 0\n",
        "alarm_on = False  # Default alarm state\n",
        "\n",
        "def sound_alarm(path):\n",
        "    playsound.playsound(path)\n",
        "\n",
        "def eye_aspect_ratio(eye):\n",
        "    A = dist.euclidean(eye[1], eye[5])\n",
        "    B = dist.euclidean(eye[2], eye[4])\n",
        "    C = dist.euclidean(eye[0], eye[3])\n",
        "    ear = (A + B) / (2.0 * C)\n",
        "    return ear\n",
        "\n",
        "def main():\n",
        "    global counter\n",
        "    global alarm_on\n",
        "    Video_capture = cv2.VideoCapture(0)\n",
        "    Video_capture.set(3, 640)  # Set width\n",
        "    Video_capture.set(4, 480)  # Set height\n",
        "\n",
        "    while True:\n",
        "        ret, frame = Video_capture.read()\n",
        "        if not ret:\n",
        "            break\n",
        "\n",
        "        face_landmarks_list = face_recognition.face_landmarks(frame)\n",
        "        for face_landmark in face_landmarks_list:\n",
        "            leftEye = face_landmark['left_eye']\n",
        "            rightEye = face_landmark['right_eye']\n",
        "            left_ear = eye_aspect_ratio(leftEye)\n",
        "            right_ear = eye_aspect_ratio(rightEye)\n",
        "            ear = (left_ear + right_ear) / 2.0\n",
        "\n",
        "            # Draw polylines for the eyes\n",
        "            lpts = np.array(leftEye)\n",
        "            rpts = np.array(rightEye)\n",
        "            cv2.polylines(frame, [lpts], True, (255, 255, 0), 1)\n",
        "            cv2.polylines(frame, [rpts], True, (255, 255, 0), 1)\n",
        "\n",
        "            # Check if the eye aspect ratio is below the threshold\n",
        "            if ear < Min_Eye_except_ratio:\n",
        "                counter += 1\n",
        "                if counter >= Eye_AR_Frames:\n",
        "                    if not alarm_on:\n",
        "                        alarm_on = True  # Start the alarm\n",
        "                        t = Thread(target=sound_alarm, args=('alarm.wav',))\n",
        "                        t.daemon = True\n",
        "                        t.start()\n",
        "                cv2.putText(frame, \"Eye Closed\", (10, 30), cv2.FONT_HERSHEY_SIMPLEX, 0.7, (0, 0, 255), 2)\n",
        "            else:\n",
        "                cv2.putText(frame, \"Eye Open\", (10, 30), cv2.FONT_HERSHEY_SIMPLEX, 0.7, (0, 0, 255), 2)\n",
        "                counter = 0\n",
        "                alarm_on = False  # Reset alarm state\n",
        "\n",
        "            # Display the EAR on the frame\n",
        "            cv2.putText(frame, f\"EAR: {ear:.2f}\", (300, 30), cv2.FONT_HERSHEY_SIMPLEX, 0.7, (0, 0, 255), 2)\n",
        "\n",
        "        cv2.imshow(\"Sleep detection\", frame)\n",
        "\n",
        "        if cv2.waitKey(1) & 0xFF == ord('q'):\n",
        "            break\n",
        "\n",
        "    Video_capture.release()\n",
        "    cv2.destroyAllWindows()\n",
        "\n",
        "if __name__ == \"__main__\":\n",
        "    main()\n"
      ]
    }
  ]
}